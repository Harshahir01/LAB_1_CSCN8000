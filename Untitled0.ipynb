{
  "nbformat": 4,
  "nbformat_minor": 0,
  "metadata": {
    "colab": {
      "provenance": [],
      "toc_visible": true,
      "authorship_tag": "ABX9TyNFdoBfurU8zZi350DNKP0P",
      "include_colab_link": true
    },
    "kernelspec": {
      "name": "python3",
      "display_name": "Python 3"
    },
    "language_info": {
      "name": "python"
    }
  },
  "cells": [
    {
      "cell_type": "markdown",
      "metadata": {
        "id": "view-in-github",
        "colab_type": "text"
      },
      "source": [
        "<a href=\"https://colab.research.google.com/github/Harshahir01/LAB_1_CSCN8000/blob/main/Untitled0.ipynb\" target=\"_parent\"><img src=\"https://colab.research.google.com/assets/colab-badge.svg\" alt=\"Open In Colab\"/></a>"
      ]
    },
    {
      "cell_type": "code",
      "execution_count": null,
      "metadata": {
        "id": "n13bxV4N_bvd"
      },
      "outputs": [],
      "source": [
        "import matplotlib.pyplot as plt\n",
        "\n",
        "# Prepare data\n",
        "x = [1, 2, 3, 4, 5]\n",
        "y = [2, 4, 5, 8, 10]\n",
        "\n",
        "# Plot lines\n",
        "plt.plot(x, y)\n",
        "\n",
        "# Add title and axis labels\n",
        "plt.title(\"Matplotlib Example\")\n",
        "plt.xlabel(\"X Axis\")\n",
        "plt.ylabel(\"Y Axis\")\n",
        "\n",
        "# Display the plot\n",
        "plt.show()"
      ]
    }
  ]
}