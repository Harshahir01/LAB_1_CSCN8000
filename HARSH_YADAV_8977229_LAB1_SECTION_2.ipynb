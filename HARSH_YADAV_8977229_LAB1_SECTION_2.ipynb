{
 "cells": [
  {
   "cell_type": "markdown",
   "metadata": {},
   "source": [
    "# ANSWER-1 _PART-1_"
   ]
  },
  {
   "cell_type": "code",
   "execution_count": 1,
   "metadata": {},
   "outputs": [
    {
     "name": "stdout",
     "output_type": "stream",
     "text": [
      "[ 1  4  7 10 13 16 19]\n"
     ]
    }
   ],
   "source": [
    "import numpy as np\n",
    "\n",
    "arr = np.array(range(1, 21, 3))\n",
    "print(arr)"
   ]
  },
  {
   "cell_type": "markdown",
   "metadata": {},
   "source": [
    "# ANSWER-2\n"
   ]
  },
  {
   "cell_type": "code",
   "execution_count": 2,
   "metadata": {},
   "outputs": [
    {
     "name": "stdout",
     "output_type": "stream",
     "text": [
      "[0.65725608 0.77725385 0.60408207]\n"
     ]
    }
   ],
   "source": [
    "arr = np.random.rand(3)\n",
    "print(arr)"
   ]
  },
  {
   "cell_type": "markdown",
   "metadata": {},
   "source": [
    "# ANSWER-3"
   ]
  },
  {
   "cell_type": "code",
   "execution_count": 3,
   "metadata": {},
   "outputs": [
    {
     "name": "stdout",
     "output_type": "stream",
     "text": [
      "[[10 20 45]\n",
      " [30 12 16]]\n",
      "[[30 12 16]\n",
      " [42 17 56]]\n"
     ]
    }
   ],
   "source": [
    "import numpy as np\n",
    "\n",
    "arr = np.array([[10, 20, 45], [30, 12, 16], [42, 17, 56]])\n",
    "\n",
    "# Slice the 2D array to get the first two rows\n",
    "first_two_rows = arr[:2, :]\n",
    "print(first_two_rows)\n",
    "\n",
    "# Slice the 2D array to get the last two rows\n",
    "last_two_rows = arr[-2:, :]\n",
    "print(last_two_rows)"
   ]
  },
  {
   "cell_type": "markdown",
   "metadata": {},
   "source": [
    "# ANSWER-4"
   ]
  },
  {
   "cell_type": "code",
   "execution_count": 4,
   "metadata": {},
   "outputs": [
    {
     "name": "stdout",
     "output_type": "stream",
     "text": [
      "[[1 2]\n",
      " [3 4]\n",
      " [5 6]\n",
      " [7 8]]\n",
      "[[1 2 5 6]\n",
      " [3 4 7 8]]\n",
      "[array([[1, 2, 5, 6]]), array([[3, 4, 7, 8]])]\n"
     ]
    }
   ],
   "source": [
    "arr1 = np.array([[1, 2], [3, 4]])\n",
    "arr2 = np.array([[5, 6], [7, 8]])\n",
    "\n",
    "# Stack the arrays vertically\n",
    "vertically_stacked = np.vstack((arr1, arr2))\n",
    "print(vertically_stacked)\n",
    "\n",
    "# Stack the arrays horizontally\n",
    "horizontally_stacked = np.hstack((arr1, arr2))\n",
    "print(horizontally_stacked)\n",
    "\n",
    "# Split the arrays\n",
    "split_arrays = np.split(horizontally_stacked, 2)\n",
    "print(split_arrays)"
   ]
  },
  {
   "cell_type": "markdown",
   "metadata": {},
   "source": [
    "# ANSWER-5"
   ]
  },
  {
   "cell_type": "code",
   "execution_count": 5,
   "metadata": {},
   "outputs": [
    {
     "name": "stdout",
     "output_type": "stream",
     "text": [
      "[[70 28]\n",
      " [70 30]\n",
      " [60 26]]\n"
     ]
    }
   ],
   "source": [
    "X = np.array([[5, 7, 2], [4, 5, 6], [7, 4, 2]])\n",
    "Y = np.array([[4, 2], [6, 2], [4, 2]])\n",
    "\n",
    "# Multiply the matrices\n",
    "result = np.matmul(X, Y)\n",
    "print(result)"
   ]
  },
  {
   "cell_type": "markdown",
   "metadata": {},
   "source": [
    "# ANSWER-6\n"
   ]
  },
  {
   "cell_type": "code",
   "execution_count": 6,
   "metadata": {},
   "outputs": [
    {
     "name": "stdout",
     "output_type": "stream",
     "text": [
      "Shape of x: (3,)\n",
      "Number of dimensions of x: 1\n",
      "Reshaped x: [[ 2]\n",
      " [-1]\n",
      " [-8]]\n",
      "Number of dimensions of reshaped x: 2\n",
      "Reshaped y: [[ 3]\n",
      " [ 1]\n",
      " [-2]]\n",
      "Number of dimensions of reshaped y: 2\n"
     ]
    }
   ],
   "source": [
    "x = np.array([2, -1, -8])\n",
    "y = np.array([3, 1, -2])\n",
    "\n",
    "# Find the shape and number of dimensions of vector x\n",
    "shape_x = x.shape\n",
    "dim_x = x.ndim\n",
    "print(\"Shape of x:\", shape_x)\n",
    "print(\"Number of dimensions of x:\", dim_x)\n",
    "\n",
    "# Reshape vector x to a matrix of size (3, 1)\n",
    "reshaped_x = x.reshape((3, 1))\n",
    "dim_reshaped_x = reshaped_x.ndim\n",
    "print(\"Reshaped x:\", reshaped_x)\n",
    "print(\"Number of dimensions of reshaped x:\", dim_reshaped_x)\n",
    "\n",
    "# Reshape y to a matrix of size (3, 1)\n",
    "reshaped_y = y.reshape((3, 1))\n",
    "dim_reshaped_y = reshaped_y.ndim\n",
    "print(\"Reshaped y:\", reshaped_y)\n",
    "print(\"Number of dimensions of reshaped y:\", dim_reshaped_y)"
   ]
  },
  {
   "cell_type": "markdown",
   "metadata": {},
   "source": [
    "# ANSWER-7\n"
   ]
  },
  {
   "cell_type": "code",
   "execution_count": 7,
   "metadata": {},
   "outputs": [
    {
     "name": "stdout",
     "output_type": "stream",
     "text": [
      "[[ -9 -18 -27]\n",
      " [ -6 -15 -24]\n",
      " [ -3 -12 -21]]\n",
      "[[ 10  40  90]\n",
      " [ 40 100 180]\n",
      " [ 70 160 270]]\n"
     ]
    }
   ],
   "source": [
    "\n",
    "a = np.array([[1, 2, 3], [4, 5, 6], [7, 8, 9]])\n",
    "b = np.array([10, 20, 30])\n",
    "\n",
    "# Broadcasting subtraction\n",
    "subtracted = a - b\n",
    "print(subtracted)\n",
    "\n",
    "# Broadcasting multiplication\n",
    "multiplied = a * b\n",
    "print(multiplied)"
   ]
  },
  {
   "cell_type": "markdown",
   "metadata": {},
   "source": [
    "# ANSWER-1 _PART-2_"
   ]
  },
  {
   "cell_type": "code",
   "execution_count": 19,
   "metadata": {},
   "outputs": [
    {
     "name": "stdout",
     "output_type": "stream",
     "text": [
      "coefficient matrix is : 3\n"
     ]
    }
   ],
   "source": [
    "A = np.array([[4, 1, -2], [2, -3, 2], [1, 2, 3]]) \n",
    "b = np.array([10, -4, 6])\n",
    "\n",
    "matrix = np.column_stack((A, b)) \n",
    "rank = np.linalg.matrix_rank(matrix)\n",
    "\n",
    "x, y, z = np.linalg.solve(A, b)\n",
    "\n",
    "print(\"coefficient matrix is :\",rank)\n",
    "\n",
    "\n",
    "\n"
   ]
  },
  {
   "cell_type": "markdown",
   "metadata": {},
   "source": [
    "### (A-1)This system has a unique solution, because  matrix is equal to the rank of the coefficient matrix.\n",
    "### Therefore, the system can be solved using NumPy functions."
   ]
  },
  {
   "cell_type": "markdown",
   "metadata": {},
   "source": [
    "# ANSWER-2 "
   ]
  },
  {
   "cell_type": "code",
   "execution_count": 20,
   "metadata": {},
   "outputs": [
    {
     "name": "stdout",
     "output_type": "stream",
     "text": [
      "coefficient matrix is : 3\n"
     ]
    }
   ],
   "source": [
    "A2 = np.array([[2, -1, 3, 4], [4, -2, 6, 8], [3, 1, -2, 2], [1, 3, -4, 1]]) \n",
    "b2 = np.array([10, 20, 3, -1])\n",
    "\n",
    "matrix_ = np.column_stack((A2, b2)) \n",
    "rank_ = np.linalg.matrix_rank(matrix_)\n",
    "\n",
    "print(\"coefficient matrix is :\",rank_)\n",
    "\n"
   ]
  },
  {
   "cell_type": "markdown",
   "metadata": {},
   "source": [
    "### (A-2)In this case, the rank of the augmented matrix is 3, but the number of variables is 4. indicating that the system has infinitely many solutions.\n",
    "### Therefore, the system cannot be solved using NumPy functions."
   ]
  }
 ],
 "metadata": {
  "kernelspec": {
   "display_name": "Python 3",
   "language": "python",
   "name": "python3"
  },
  "language_info": {
   "codemirror_mode": {
    "name": "ipython",
    "version": 3
   },
   "file_extension": ".py",
   "mimetype": "text/x-python",
   "name": "python",
   "nbconvert_exporter": "python",
   "pygments_lexer": "ipython3",
   "version": "3.11.7"
  }
 },
 "nbformat": 4,
 "nbformat_minor": 2
}
